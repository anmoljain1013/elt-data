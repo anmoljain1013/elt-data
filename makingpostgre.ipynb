{
 "cells": [
  {
   "cell_type": "code",
   "execution_count": 1,
   "id": "1a16f5ea",
   "metadata": {},
   "outputs": [],
   "source": [
    "import psycopg2"
   ]https://www.overleaf.com/project/6299ad4e71584f1808a98506
  },
  {
   "cell_type": "code",
   "execution_count": null,
   "id": "5ef33b5b",
   "metadata": {},
   "outputs": [],
   "source": []
  }
 ],
 "metadata": {
  "kernelspec": {
   "display_name": "Python 3 (ipykernel)",
   "language": "python",
   "name": "python3"
  },
  "language_info": {
   "codemirror_mode": {
    "name": "ipython",
    "version": 3
   },
   "file_extension": ".py",
   "mimetype": "text/x-python",
   "name": "python",
   "nbconvert_exporter": "python",
   "pygments_lexer": "ipython3",
   "version": "3.8.10"
  }
 },
 "nbformat": 4,
 "nbformat_minor": 5
}
